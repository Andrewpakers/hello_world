{
 "cells": [
  {
   "cell_type": "code",
   "execution_count": 16,
   "id": "96fa36a7",
   "metadata": {},
   "outputs": [],
   "source": [
    "def do_twice(f, value):\n",
    "    f(value)\n",
    "    f(value)"
   ]
  },
  {
   "cell_type": "code",
   "execution_count": 17,
   "id": "67b0904e",
   "metadata": {},
   "outputs": [],
   "source": [
    "def print_value(value):\n",
    "    print(value)"
   ]
  },
  {
   "cell_type": "code",
   "execution_count": 18,
   "id": "ad945692",
   "metadata": {},
   "outputs": [
    {
     "name": "stdout",
     "output_type": "stream",
     "text": [
      "test\n",
      "test\n"
     ]
    }
   ],
   "source": [
    "do_twice(print_value, \"test\")"
   ]
  },
  {
   "cell_type": "code",
   "execution_count": 19,
   "id": "ad39ca4c",
   "metadata": {},
   "outputs": [],
   "source": [
    "def print_twice(value):\n",
    "    print(value)\n",
    "    print(value)"
   ]
  },
  {
   "cell_type": "code",
   "execution_count": 20,
   "id": "011f4aef",
   "metadata": {},
   "outputs": [
    {
     "name": "stdout",
     "output_type": "stream",
     "text": [
      "spam\n",
      "spam\n",
      "spam\n",
      "spam\n"
     ]
    }
   ],
   "source": [
    "do_twice(print_twice, \"spam\")"
   ]
  },
  {
   "cell_type": "code",
   "execution_count": 21,
   "id": "47456062",
   "metadata": {},
   "outputs": [],
   "source": [
    "def do_four(f, value):\n",
    "    f(value)\n",
    "    f(value)\n",
    "    f(value)\n",
    "    f(value)"
   ]
  },
  {
   "cell_type": "code",
   "execution_count": 22,
   "id": "3c130039",
   "metadata": {},
   "outputs": [
    {
     "name": "stdout",
     "output_type": "stream",
     "text": [
      "spam\n",
      "spam\n",
      "spam\n",
      "spam\n",
      "spam\n",
      "spam\n",
      "spam\n",
      "spam\n"
     ]
    }
   ],
   "source": [
    "do_four(print_twice, \"spam\")"
   ]
  },
  {
   "cell_type": "code",
   "execution_count": null,
   "id": "4b0cc9b9",
   "metadata": {},
   "outputs": [],
   "source": []
  }
 ],
 "metadata": {
  "kernelspec": {
   "display_name": "Python 3 (ipykernel)",
   "language": "python",
   "name": "python3"
  },
  "language_info": {
   "codemirror_mode": {
    "name": "ipython",
    "version": 3
   },
   "file_extension": ".py",
   "mimetype": "text/x-python",
   "name": "python",
   "nbconvert_exporter": "python",
   "pygments_lexer": "ipython3",
   "version": "3.11.4"
  }
 },
 "nbformat": 4,
 "nbformat_minor": 5
}
